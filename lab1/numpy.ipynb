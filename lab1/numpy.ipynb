{
 "cells": [
  {
   "cell_type": "markdown",
   "id": "precious-pacific",
   "metadata": {},
   "source": [
    "# Lab1"
   ]
  },
  {
   "cell_type": "markdown",
   "id": "nutritional-electricity",
   "metadata": {},
   "source": [
    "## Numpy"
   ]
  },
  {
   "cell_type": "code",
   "execution_count": 1,
   "id": "related-notice",
   "metadata": {},
   "outputs": [],
   "source": [
    "import numpy as np"
   ]
  },
  {
   "cell_type": "markdown",
   "id": "eligible-floating",
   "metadata": {},
   "source": [
    "### Basic exercises "
   ]
  },
  {
   "cell_type": "markdown",
   "id": "accomplished-toddler",
   "metadata": {},
   "source": [
    "####  Create a 1D array of numbers from 0 to 9"
   ]
  },
  {
   "cell_type": "code",
   "execution_count": 2,
   "id": "final-account",
   "metadata": {},
   "outputs": [
    {
     "name": "stdout",
     "output_type": "stream",
     "text": [
      "[0 1 2 3 4 5 6 7 8 9]\n"
     ]
    }
   ],
   "source": [
    "# Solution\n",
    "result = np.arange(10)\n",
    "print(result)"
   ]
  },
  {
   "cell_type": "markdown",
   "id": "necessary-lingerie",
   "metadata": {},
   "source": [
    "#### Create a 3×3 numpy array of all True’s"
   ]
  },
  {
   "cell_type": "code",
   "execution_count": 3,
   "id": "present-response",
   "metadata": {},
   "outputs": [
    {
     "name": "stdout",
     "output_type": "stream",
     "text": [
      "[[ True  True  True]\n",
      " [ True  True  True]\n",
      " [ True  True  True]]\n"
     ]
    }
   ],
   "source": [
    "# Solution\n",
    "result = np.ones((3, 3), dtype=bool)\n",
    "print(result)"
   ]
  },
  {
   "cell_type": "markdown",
   "id": "former-shoulder",
   "metadata": {},
   "source": [
    "#### Replace all odd numbers in arr with -1"
   ]
  },
  {
   "cell_type": "code",
   "execution_count": 4,
   "id": "informational-enhancement",
   "metadata": {},
   "outputs": [
    {
     "name": "stdout",
     "output_type": "stream",
     "text": [
      "Original:\n",
      "[0 1 2 3 4 5 6 7 8 9]\n",
      "\n",
      "Replaced:\n",
      "[ 0 -1  2 -1  4 -1  6 -1  8 -1]\n"
     ]
    }
   ],
   "source": [
    "# Input\n",
    "arr = np.arange(10)\n",
    "\n",
    "# Solution\n",
    "print(\"Original:\")\n",
    "print(arr)\n",
    "\n",
    "print(\"\\nReplaced:\")\n",
    "arr[arr % 2 != 0] = -1\n",
    "print(arr)"
   ]
  },
  {
   "cell_type": "markdown",
   "id": "dutch-original",
   "metadata": {},
   "source": [
    "#### Replace all odd numbers in arr with -1 without changing arr"
   ]
  },
  {
   "cell_type": "code",
   "execution_count": 5,
   "id": "continental-index",
   "metadata": {},
   "outputs": [
    {
     "name": "stdout",
     "output_type": "stream",
     "text": [
      "Original:\n",
      "[0 1 2 3 4 5 6 7 8 9]\n",
      "\n",
      "Replaced copy:\n",
      "[ 0 -1  2 -1  4 -1  6 -1  8 -1]\n"
     ]
    }
   ],
   "source": [
    "# Input\n",
    "arr = np.arange(10)\n",
    "\n",
    "# Solution\n",
    "print(\"Original:\")\n",
    "print(arr)\n",
    "\n",
    "print(\"\\nReplaced copy:\")\n",
    "result = np.where(arr % 2 == 1, -1, arr)\n",
    "print(result)"
   ]
  },
  {
   "cell_type": "markdown",
   "id": "promotional-justice",
   "metadata": {},
   "source": [
    "#### Convert a 1D array to a 2D array with 2 rows"
   ]
  },
  {
   "cell_type": "code",
   "execution_count": 6,
   "id": "chubby-decrease",
   "metadata": {},
   "outputs": [
    {
     "name": "stdout",
     "output_type": "stream",
     "text": [
      "Original:\n",
      "[0 1 2 3 4 5 6 7 8 9]\n",
      "\n",
      "Converted:\n",
      "[[0 1 2 3 4]\n",
      " [5 6 7 8 9]]\n"
     ]
    }
   ],
   "source": [
    "# Input\n",
    "arr = np.arange(10)\n",
    "\n",
    "# Solution\n",
    "print(\"Original:\")\n",
    "print(arr)\n",
    "\n",
    "print(\"\\nConverted:\")\n",
    "result = np.reshape(arr, (2, -1))\n",
    "print(result)"
   ]
  },
  {
   "cell_type": "markdown",
   "id": "usual-medicine",
   "metadata": {},
   "source": [
    "#### Stack arrays a and b vertically and then horizontally"
   ]
  },
  {
   "cell_type": "code",
   "execution_count": 7,
   "id": "sustained-retreat",
   "metadata": {},
   "outputs": [
    {
     "name": "stdout",
     "output_type": "stream",
     "text": [
      "a:\n",
      "[[0 1 2 3 4]\n",
      " [5 6 7 8 9]]\n",
      "\n",
      "b:\n",
      "[[1 1 1 1 1]\n",
      " [1 1 1 1 1]]\n",
      "\n",
      "Vertically stacked:\n",
      "[[0 1 2 3 4]\n",
      " [5 6 7 8 9]\n",
      " [1 1 1 1 1]\n",
      " [1 1 1 1 1]]\n",
      "\n",
      "Horizontally stacked:\n",
      "[[0 1 2 3 4 1 1 1 1 1]\n",
      " [5 6 7 8 9 1 1 1 1 1]]\n"
     ]
    }
   ],
   "source": [
    "# Input\n",
    "a = np.arange(10).reshape(2, -1)\n",
    "b = np.repeat(1, 10).reshape(2, -1)\n",
    "\n",
    "# Solution\n",
    "print(\"a:\")\n",
    "print(a)\n",
    "print(\"\\nb:\")\n",
    "print(b)\n",
    "\n",
    "print(\"\\nVertically stacked:\")\n",
    "result_v = np.vstack((a, b))\n",
    "print(result_v)\n",
    "print(\"\\nHorizontally stacked:\")\n",
    "result_h = np.hstack((a, b))\n",
    "print(result_h)"
   ]
  },
  {
   "cell_type": "markdown",
   "id": "numerous-check",
   "metadata": {},
   "source": [
    "#### Get the common items between a and b"
   ]
  },
  {
   "cell_type": "code",
   "execution_count": 8,
   "id": "sapphire-faculty",
   "metadata": {},
   "outputs": [
    {
     "name": "stdout",
     "output_type": "stream",
     "text": [
      "[2 4]\n"
     ]
    }
   ],
   "source": [
    "# Input\n",
    "a = np.array([1, 2, 3, 2, 3, 4, 3, 4, 5, 6])\n",
    "b = np.array([7, 2, 10, 2, 7, 4, 9, 4, 9, 8])\n",
    "\n",
    "# Solution\n",
    "result = np.intersect1d(a, b)\n",
    "print(result)"
   ]
  },
  {
   "cell_type": "markdown",
   "id": "complete-modification",
   "metadata": {},
   "source": [
    "#### From array a remove all items present in array b"
   ]
  },
  {
   "cell_type": "code",
   "execution_count": 9,
   "id": "infectious-cornwall",
   "metadata": {},
   "outputs": [
    {
     "name": "stdout",
     "output_type": "stream",
     "text": [
      "[1 2 3 4]\n"
     ]
    }
   ],
   "source": [
    "# Input\n",
    "a = np.array([1, 2, 3, 4, 5])\n",
    "b = np.array([5, 6, 7, 8, 9])\n",
    "\n",
    "# Solution\n",
    "result = a[~np.isin(a, b)]\n",
    "print(result)"
   ]
  },
  {
   "cell_type": "markdown",
   "id": "collectible-apple",
   "metadata": {},
   "source": [
    "#### Find positions where elements of a and b match"
   ]
  },
  {
   "cell_type": "code",
   "execution_count": 10,
   "id": "incident-antigua",
   "metadata": {},
   "outputs": [
    {
     "name": "stdout",
     "output_type": "stream",
     "text": [
      "[1 3 5 7]\n"
     ]
    }
   ],
   "source": [
    "# Input\n",
    "a = np.array([1, 2, 3, 2, 3, 4, 3, 4, 5, 6])\n",
    "b = np.array([7, 2, 10, 2, 7, 4, 9, 4, 9, 8])\n",
    "\n",
    "# Solution\n",
    "result = np.where(a == b)[0]\n",
    "print(result)"
   ]
  },
  {
   "cell_type": "markdown",
   "id": "aggregate-difference",
   "metadata": {},
   "source": [
    "####  Get all items between 5 and 10 from a"
   ]
  },
  {
   "cell_type": "code",
   "execution_count": 11,
   "id": "nonprofit-internet",
   "metadata": {},
   "outputs": [
    {
     "name": "stdout",
     "output_type": "stream",
     "text": [
      "[ 5  6  7  8  9 10]\n"
     ]
    }
   ],
   "source": [
    "# Input\n",
    "a = np.arange(15)\n",
    "\n",
    "# Solutions\n",
    "result = a[(a >= 5) & (a <= 10)]\n",
    "print(result)"
   ]
  },
  {
   "cell_type": "markdown",
   "id": "referenced-checkout",
   "metadata": {},
   "source": [
    "#### Swap columns 1 and 2 in the array arr"
   ]
  },
  {
   "cell_type": "code",
   "execution_count": 12,
   "id": "terminal-premiere",
   "metadata": {},
   "outputs": [
    {
     "name": "stdout",
     "output_type": "stream",
     "text": [
      "Original:\n",
      "[[0 1 2]\n",
      " [3 4 5]\n",
      " [6 7 8]]\n",
      "\n",
      "Swapped:\n",
      "[[0 2 1]\n",
      " [3 5 4]\n",
      " [6 8 7]]\n"
     ]
    }
   ],
   "source": [
    "# Input\n",
    "arr = np.arange(9).reshape(3, 3)\n",
    "\n",
    "# Solution\n",
    "print(\"Original:\")\n",
    "print(arr)\n",
    "\n",
    "print(\"\\nSwapped:\")\n",
    "arr[:, [1, 2]] = arr[:, [2, 1]]\n",
    "print(arr)"
   ]
  },
  {
   "cell_type": "markdown",
   "id": "historic-sunday",
   "metadata": {},
   "source": [
    "#### Reverse the rows and the columns of a 2D array arr"
   ]
  },
  {
   "cell_type": "code",
   "execution_count": 13,
   "id": "earlier-audience",
   "metadata": {},
   "outputs": [
    {
     "name": "stdout",
     "output_type": "stream",
     "text": [
      "Original:\n",
      "[[0 1 2]\n",
      " [3 4 5]\n",
      " [6 7 8]]\n",
      "\n",
      "Rows reversed:\n",
      "[[6 7 8]\n",
      " [3 4 5]\n",
      " [0 1 2]]\n",
      "\n",
      "Columns reversed:\n",
      "[[2 1 0]\n",
      " [5 4 3]\n",
      " [8 7 6]]\n"
     ]
    }
   ],
   "source": [
    "# Input\n",
    "arr = np.arange(9).reshape(3, 3)\n",
    "\n",
    "# Solution\n",
    "print(\"Original:\")\n",
    "print(arr)\n",
    "\n",
    "print(\"\\nRows reversed:\")\n",
    "result_r = np.flip(arr, 0)\n",
    "print(result_r)\n",
    "\n",
    "print(\"\\nColumns reversed:\")\n",
    "result_c = np.flip(arr, 1)\n",
    "print(result_c)"
   ]
  },
  {
   "cell_type": "markdown",
   "id": "occupied-patrol",
   "metadata": {},
   "source": [
    "#### Create a 2D array of shape 5x3 to contain random decimal numbers between 5 and 10."
   ]
  },
  {
   "cell_type": "code",
   "execution_count": 14,
   "id": "handmade-digest",
   "metadata": {},
   "outputs": [
    {
     "name": "stdout",
     "output_type": "stream",
     "text": [
      "[[9.69088572 7.43806483 5.5371368 ]\n",
      " [5.08630122 6.23349042 7.77719864]\n",
      " [7.3886225  6.93808473 9.95828026]\n",
      " [8.30007501 7.51878976 7.59017085]\n",
      " [9.28371481 5.64941046 6.01942395]]\n"
     ]
    }
   ],
   "source": [
    "# Solutions\n",
    "result = np.random.uniform(5, 10, (5, 3))\n",
    "print(result)"
   ]
  },
  {
   "cell_type": "markdown",
   "id": "arctic-frequency",
   "metadata": {},
   "source": [
    "#### Get the positions of top 5 maximum values in a given array a"
   ]
  },
  {
   "cell_type": "code",
   "execution_count": 15,
   "id": "exclusive-belize",
   "metadata": {},
   "outputs": [
    {
     "name": "stdout",
     "output_type": "stream",
     "text": [
      "Given array:\n",
      "[27.62684215 14.64009987 21.80136195 42.39403048  1.23122395  6.95688692\n",
      " 33.86670515 41.466785    7.69862289 29.17957314 44.67477576 11.25090398\n",
      " 10.08108276  6.31046763 11.76517714 48.95256545 40.77247431  9.42510962\n",
      " 40.99501269 14.42961361]\n",
      "\n",
      "Top 5 maximum values indexes:\n",
      "[15 10  3  7 18]\n"
     ]
    }
   ],
   "source": [
    "# Input\n",
    "np.random.seed(100)\n",
    "a = np.random.uniform(1,50, 20)\n",
    "\n",
    "# Solution:\n",
    "print(\"Given array:\")\n",
    "print(a)\n",
    "\n",
    "print(\"\\nTop 5 maximum values indexes:\")\n",
    "result = (-a).argsort()[:5]\n",
    "print(result)"
   ]
  },
  {
   "cell_type": "markdown",
   "id": "empirical-ethiopia",
   "metadata": {},
   "source": [
    "#### Compute the counts of unique values row-wise\n",
    "    Input:\n",
    "    [[ 9,  9,  4,  8,  8,  1,  5,  3,  6,  3],\n",
    "    [ 3,  3,  2,  1,  9,  5,  1, 10,  7,  3],\n",
    "    [ 5,  2,  6,  4,  5,  5,  4,  8,  2,  2],\n",
    "    [ 8,  8,  1,  3, 10, 10,  4,  3,  6,  9],\n",
    "    [ 2,  1,  8,  7,  3,  1,  9,  3,  6,  2],\n",
    "    [ 9,  2,  6,  5,  3,  9,  4,  6,  1, 10]]\n",
    "\n",
    "    Desired Output:\n",
    "    [[1, 0, 2, 1, 1, 1, 0, 2, 2, 0],\n",
    "    [2, 1, 3, 0, 1, 0, 1, 0, 1, 1],\n",
    "    [0, 3, 0, 2, 3, 1, 0, 1, 0, 0],\n",
    "    [1, 0, 2, 1, 0, 1, 0, 2, 1, 2],\n",
    "    [2, 2, 2, 0, 0, 1, 1, 1, 1, 0],\n",
    "    [1, 1, 1, 1, 1, 2, 0, 0, 2, 1]]"
   ]
  },
  {
   "cell_type": "code",
   "execution_count": 16,
   "id": "linear-supply",
   "metadata": {},
   "outputs": [
    {
     "name": "stdout",
     "output_type": "stream",
     "text": [
      "Given array:\n",
      "[[ 9  9  4  8  8  1  5  3  6  3]\n",
      " [ 3  3  2  1  9  5  1 10  7  3]\n",
      " [ 5  2  6  4  5  5  4  8  2  2]\n",
      " [ 8  8  1  3 10 10  4  3  6  9]\n",
      " [ 2  1  8  7  3  1  9  3  6  2]\n",
      " [ 9  2  6  5  3  9  4  6  1 10]]\n",
      "\n",
      "Counts of unique values row-wise:\n",
      "[[1 0 2 1 1 1 0 2 2 0]\n",
      " [2 1 3 0 1 0 1 0 1 1]\n",
      " [0 3 0 2 3 1 0 1 0 0]\n",
      " [1 0 2 1 0 1 0 2 1 2]\n",
      " [2 2 2 0 0 1 1 1 1 0]\n",
      " [1 1 1 1 1 2 0 0 2 1]]\n"
     ]
    }
   ],
   "source": [
    "# Input\n",
    "np.random.seed(100)\n",
    "arr = np.random.randint(1, 11, size=(6, 10))\n",
    "\n",
    "# Solution\n",
    "print(\"Given array:\")\n",
    "print(arr)\n",
    "\n",
    "print(\"\\nCounts of unique values row-wise:\")\n",
    "result = np.vstack([np.bincount(row, minlength=arr.shape[1] + 1) for row in arr])[:, 1:]\n",
    "print(result)"
   ]
  },
  {
   "cell_type": "markdown",
   "id": "interim-rental",
   "metadata": {},
   "source": [
    "#### Compute the min-by-max (i.e. min/max) for each row for given 2d numpy array"
   ]
  },
  {
   "cell_type": "code",
   "execution_count": 17,
   "id": "prepared-october",
   "metadata": {},
   "outputs": [
    {
     "name": "stdout",
     "output_type": "stream",
     "text": [
      "Given array:\n",
      "[[9 9 4]\n",
      " [8 8 1]\n",
      " [5 3 6]\n",
      " [3 3 3]\n",
      " [2 1 9]]\n",
      "\n",
      "Min/max array:\n",
      "[0.44444444 0.125      0.5        1.         0.11111111]\n"
     ]
    }
   ],
   "source": [
    "# Input\n",
    "np.random.seed(100)\n",
    "a = np.random.randint(1,10, [5,3])\n",
    "\n",
    "# Solution\n",
    "print(\"Given array:\")\n",
    "print(a)\n",
    "\n",
    "print(\"\\nMin/max array:\")\n",
    "result = np.min(a, axis= 1) / np.max(a, axis= 1)\n",
    "print(result)"
   ]
  },
  {
   "cell_type": "markdown",
   "id": "composed-exclusive",
   "metadata": {},
   "source": [
    "####  Find the duplicate entries in the given numpy array and mark them as True. First time occurrences should be False."
   ]
  },
  {
   "cell_type": "code",
   "execution_count": 18,
   "id": "brutal-devon",
   "metadata": {},
   "outputs": [
    {
     "name": "stdout",
     "output_type": "stream",
     "text": [
      "Given array:\n",
      "[0 0 3 0 2 4 2 2 2 2]\n",
      "\n",
      "Boolean array:\n",
      "[False  True False  True False False  True  True  True  True]\n"
     ]
    }
   ],
   "source": [
    "# Input\n",
    "np.random.seed(100)\n",
    "a = np.random.randint(0, 5, 10)\n",
    "\n",
    "# Solution\n",
    "print(\"Given array:\")\n",
    "print(a)\n",
    "\n",
    "print(\"\\nBoolean array:\")\n",
    "result = np.full(a.shape[0], True)\n",
    "indices = np.unique(a, return_index=True)[1]\n",
    "result[indices] = False\n",
    "print(result)"
   ]
  },
  {
   "cell_type": "markdown",
   "id": "initial-sacrifice",
   "metadata": {},
   "source": [
    "#### Find all the peaks in a 1D numpy array a. Peaks are points surrounded by smaller values on both sides.\n",
    "Make use of \n",
    "1. numpy.diff\n",
    "2. numpy.sign\n",
    "3. numpy.diff\n",
    "4. numpy.where"
   ]
  },
  {
   "cell_type": "code",
   "execution_count": 19,
   "id": "interested-paper",
   "metadata": {},
   "outputs": [
    {
     "name": "stdout",
     "output_type": "stream",
     "text": [
      "Given array:\n",
      "[1 3 7 8 2 6 0 1]\n",
      "\n",
      "Peaks:\n",
      "[8 6]\n"
     ]
    }
   ],
   "source": [
    "# Input:\n",
    "a = np.array([1, 3, 7, 8, 2, 6, 0, 1])\n",
    "\n",
    "# Solution\n",
    "print(\"Given array:\")\n",
    "print(a)\n",
    "\n",
    "print(\"\\nPeaks:\")\n",
    "diff = np.diff(np.sign(np.diff(a)))\n",
    "result = a[np.where(diff == -2)[0] + 1]\n",
    "print(result)"
   ]
  },
  {
   "cell_type": "markdown",
   "id": "returning-province",
   "metadata": {},
   "source": [
    "#### Find the index of 5th repetition of number 1 in x\n",
    "Make use of numpy.where"
   ]
  },
  {
   "cell_type": "code",
   "execution_count": 20,
   "id": "informal-encounter",
   "metadata": {},
   "outputs": [
    {
     "name": "stdout",
     "output_type": "stream",
     "text": [
      "Given array:\n",
      "[1 2 1 1 3 4 3 1 1 2 1 1 2]\n",
      "\n",
      "Index of 5th repetition of number 1:\n",
      "8\n"
     ]
    }
   ],
   "source": [
    "# Input\n",
    "x = np.array([1, 2, 1, 1, 3, 4, 3, 1, 1, 2, 1, 1, 2])\n",
    "n = 5\n",
    "\n",
    "# Solution\n",
    "print(\"Given array:\")\n",
    "print(x)\n",
    "\n",
    "print(\"\\nIndex of 5th repetition of number 1:\")\n",
    "result = np.where(x == 1)[0][n - 1]\n",
    "print(result)"
   ]
  },
  {
   "cell_type": "markdown",
   "id": "compliant-opinion",
   "metadata": {},
   "source": [
    "#### Compute the moving average of window size 3, for the given 1D array\n",
    "Make use of numpy.convolve"
   ]
  },
  {
   "cell_type": "code",
   "execution_count": 21,
   "id": "vulnerable-secretariat",
   "metadata": {},
   "outputs": [
    {
     "name": "stdout",
     "output_type": "stream",
     "text": [
      "[6.33333333 6.         5.66666667 4.66666667 3.66666667 2.\n",
      " 3.66666667 3.        ]\n"
     ]
    }
   ],
   "source": [
    "# Input\n",
    "arr = np.array([8, 8, 3, 7, 7, 0, 4, 2, 5, 2])\n",
    "window_size = 3\n",
    "\n",
    "# Solution\n",
    "result = np.convolve(arr, np.ones(window_size), 'valid') / window_size\n",
    "print(result)"
   ]
  },
  {
   "cell_type": "markdown",
   "id": "handled-function",
   "metadata": {},
   "source": [
    "### Iris dataset"
   ]
  },
  {
   "cell_type": "markdown",
   "id": "muslim-coaching",
   "metadata": {},
   "source": [
    "#### Import the iris dataset from iris.txt\n",
    "See np.genfromtxt, load the dataset with dtype=np.str"
   ]
  },
  {
   "cell_type": "code",
   "execution_count": 22,
   "id": "jewish-carolina",
   "metadata": {},
   "outputs": [
    {
     "name": "stdout",
     "output_type": "stream",
     "text": [
      "Dataset sample:\n",
      "[['5.1' '3.5' '1.4' '0.2' 'Iris-setosa']\n",
      " ['4.9' '3.0' '1.4' '0.2' 'Iris-setosa']\n",
      " ['4.7' '3.2' '1.3' '0.2' 'Iris-setosa']\n",
      " ['4.6' '3.1' '1.5' '0.2' 'Iris-setosa']\n",
      " ['5.0' '3.6' '1.4' '0.2' 'Iris-setosa']]\n"
     ]
    },
    {
     "name": "stderr",
     "output_type": "stream",
     "text": [
      "<ipython-input-22-d991505b195a>:6: DeprecationWarning: `np.str` is a deprecated alias for the builtin `str`. To silence this warning, use `str` by itself. Doing this will not modify any behavior and is safe. If you specifically wanted the numpy scalar type, use `np.str_` here.\n",
      "Deprecated in NumPy 1.20; for more details and guidance: https://numpy.org/devdocs/release/1.20.0-notes.html#deprecations\n",
      "  data = np.genfromtxt(filepath, dtype=np.str, delimiter=\",\")\n"
     ]
    }
   ],
   "source": [
    "# Input filepath\n",
    "filepath = \"../data/iris.txt\"\n",
    "\n",
    "# Solution\n",
    "print(\"Dataset sample:\")\n",
    "data = np.genfromtxt(filepath, dtype=np.str, delimiter=\",\")\n",
    "print(data[0:5])"
   ]
  },
  {
   "cell_type": "markdown",
   "id": "special-death",
   "metadata": {},
   "source": [
    "#### Print the unique labels of the dataset"
   ]
  },
  {
   "cell_type": "code",
   "execution_count": 23,
   "id": "charged-shareware",
   "metadata": {},
   "outputs": [
    {
     "name": "stdout",
     "output_type": "stream",
     "text": [
      "Unique labels:\n",
      "['Iris-setosa' 'Iris-versicolor' 'Iris-virginica']\n"
     ]
    }
   ],
   "source": [
    "# Solution\n",
    "print(\"Unique labels:\")\n",
    "result = np.unique(data[:, 4])\n",
    "print(result)"
   ]
  },
  {
   "cell_type": "markdown",
   "id": "objective-repeat",
   "metadata": {},
   "source": [
    "#### Find how many samples (i.e. rows) we have for each unique label"
   ]
  },
  {
   "cell_type": "code",
   "execution_count": 24,
   "id": "amateur-train",
   "metadata": {},
   "outputs": [
    {
     "name": "stdout",
     "output_type": "stream",
     "text": [
      "Unique samples:\n",
      "{'Iris-setosa': 50, 'Iris-versicolor': 50, 'Iris-virginica': 50}\n"
     ]
    }
   ],
   "source": [
    "# Solution\n",
    "print(\"Unique samples:\")\n",
    "labels, counts = np.unique(data[:, 4], return_counts=True)\n",
    "result = {label: count for label, count in zip(labels, counts)}\n",
    "print(result)"
   ]
  },
  {
   "cell_type": "markdown",
   "id": "worst-budget",
   "metadata": {},
   "source": [
    "#### Find the mean, median, standard deviation of iris's sepallength (1st column)\n",
    "See np.genfromtxt, load only the 1st column with the appropiate data type"
   ]
  },
  {
   "cell_type": "code",
   "execution_count": 25,
   "id": "agreed-hundred",
   "metadata": {},
   "outputs": [
    {
     "name": "stdout",
     "output_type": "stream",
     "text": [
      "Result:\n",
      "Mean: 5.843333333333334\n",
      "Median: 5.8\n",
      "Std: 0.8253012917851409\n"
     ]
    }
   ],
   "source": [
    "# Solution\n",
    "sepallength = np.genfromtxt(filepath, usecols=0, dtype=np.double, delimiter=\",\")\n",
    "mean = np.mean(sepallength)\n",
    "median = np.median(sepallength)\n",
    "std = np.std(sepallength)\n",
    "print(\"Result:\\nMean: \" + str(mean) + \"\\nMedian: \" + str(median) + \"\\nStd: \" + str(std))"
   ]
  },
  {
   "cell_type": "markdown",
   "id": "liberal-knock",
   "metadata": {},
   "source": [
    "####  Find the mean, median, standard deviation of iris's sepallength (1st column) for each unique labels"
   ]
  },
  {
   "cell_type": "code",
   "execution_count": 26,
   "id": "differential-virgin",
   "metadata": {},
   "outputs": [
    {
     "name": "stdout",
     "output_type": "stream",
     "text": [
      "Iris-setosa:\n",
      "Mean: 5.006\n",
      "Median: 5.0\n",
      "Std: 0.3489469873777391\n",
      "\n",
      "Iris-versicolor:\n",
      "Mean: 5.936\n",
      "Median: 5.9\n",
      "Std: 0.5109833656783751\n",
      "\n",
      "Iris-virginica:\n",
      "Mean: 6.587999999999998\n",
      "Median: 6.5\n",
      "Std: 0.6294886813914926\n",
      "\n"
     ]
    }
   ],
   "source": [
    "# Solution\n",
    "labels = data[:, 4]\n",
    "unique = np.unique(labels)\n",
    "labels_lengths = { label: sepallength[labels == label] for label in unique }\n",
    "\n",
    "for label, lengths in labels_lengths.items():\n",
    "    print(label + \":\")\n",
    "    print(\"Mean: \" + str(np.mean(lengths)))\n",
    "    print(\"Median: \" + str(np.median(lengths)))\n",
    "    print(\"Std: \" + str(np.std(lengths)) + \"\\n\")"
   ]
  },
  {
   "cell_type": "markdown",
   "id": "consolidated-palace",
   "metadata": {},
   "source": [
    "#### Find the correlation between SepalLength(1st column) and PetalLength(3rd column) in iris_2d\n",
    "See pearsonr function from scipy"
   ]
  },
  {
   "cell_type": "code",
   "execution_count": 27,
   "id": "indoor-warner",
   "metadata": {},
   "outputs": [
    {
     "name": "stdout",
     "output_type": "stream",
     "text": [
      "Pearson correlaton:\n",
      "0.8717541573048713\n"
     ]
    }
   ],
   "source": [
    "# Solution\n",
    "from scipy.stats.stats import pearsonr\n",
    "\n",
    "sepal = data[:, 0].astype(np.double)\n",
    "petal = data[:, 2].astype(np.double)\n",
    "result = pearsonr(sepal, petal)[0]\n",
    "print(\"Pearson correlaton:\")\n",
    "print(result)"
   ]
  },
  {
   "cell_type": "markdown",
   "id": "dynamic-consultancy",
   "metadata": {},
   "source": [
    "####  Find out if iris has any missing values\n",
    "See np.genfromtxt, load only columns from 0 to 4 with appropriate data type"
   ]
  },
  {
   "cell_type": "code",
   "execution_count": 28,
   "id": "dominican-third",
   "metadata": {},
   "outputs": [
    {
     "name": "stdout",
     "output_type": "stream",
     "text": [
      "Does Iris contain missing values?\n",
      "False\n"
     ]
    }
   ],
   "source": [
    "# Solution\n",
    "print(\"Does Iris contain missing values?\")\n",
    "filled = np.genfromtxt(filepath, delimiter=',', dtype=str, filling_values=\"\", usecols=[0, 1, 2, 3, 4])\n",
    "result = np.any(filled == \"\")\n",
    "print(result)"
   ]
  },
  {
   "cell_type": "markdown",
   "id": "trained-contact",
   "metadata": {},
   "source": [
    "#### Bin the petal length (3rd) column of iris to form a text array, such that if petal length is:\n",
    "    Less than 3 --> 'small'\n",
    "    3-5 --> 'medium'\n",
    "    >=5 --> 'large'\n",
    "See numpy.digitize"
   ]
  },
  {
   "cell_type": "code",
   "execution_count": 29,
   "id": "complimentary-fighter",
   "metadata": {},
   "outputs": [
    {
     "name": "stdout",
     "output_type": "stream",
     "text": [
      "Binned array:\n",
      "['small', 'small', 'small', 'small', 'small', 'small', 'small', 'small', 'small', 'small', 'small', 'small', 'small', 'small', 'small', 'small', 'small', 'small', 'small', 'small', 'small', 'small', 'small', 'small', 'small', 'small', 'small', 'small', 'small', 'small', 'small', 'small', 'small', 'small', 'small', 'small', 'small', 'small', 'small', 'small', 'small', 'small', 'small', 'small', 'small', 'small', 'small', 'small', 'small', 'small', 'medium', 'medium', 'medium', 'medium', 'medium', 'medium', 'medium', 'medium', 'medium', 'medium', 'medium', 'medium', 'medium', 'medium', 'medium', 'medium', 'medium', 'medium', 'medium', 'medium', 'medium', 'medium', 'medium', 'medium', 'medium', 'medium', 'medium', 'large', 'medium', 'medium', 'medium', 'medium', 'medium', 'large', 'medium', 'medium', 'medium', 'medium', 'medium', 'medium', 'medium', 'medium', 'medium', 'medium', 'medium', 'medium', 'medium', 'medium', 'medium', 'medium', 'large', 'large', 'large', 'large', 'large', 'large', 'medium', 'large', 'large', 'large', 'large', 'large', 'large', 'large', 'large', 'large', 'large', 'large', 'large', 'large', 'large', 'medium', 'large', 'medium', 'large', 'large', 'medium', 'medium', 'large', 'large', 'large', 'large', 'large', 'large', 'large', 'large', 'large', 'large', 'medium', 'large', 'large', 'large', 'large', 'large', 'large', 'large', 'large', 'large', 'large', 'large']\n"
     ]
    }
   ],
   "source": [
    "# Solution\n",
    "print(\"Binned array:\")\n",
    "lengths = data[:, 2].astype(np.double)\n",
    "indices = np.digitize(lengths, [0, 3, 5])\n",
    "labels = {1: 'small', 2: 'medium', 3: 'large'}\n",
    "result = [labels[index] for index in indices]\n",
    "print(result)"
   ]
  },
  {
   "cell_type": "markdown",
   "id": "wrapped-venue",
   "metadata": {},
   "source": [
    "####  Create a new column for volume in iris, where volume is (pi x petallength x sepal_length^2)/3"
   ]
  },
  {
   "cell_type": "code",
   "execution_count": 30,
   "id": "severe-parker",
   "metadata": {},
   "outputs": [
    {
     "name": "stdout",
     "output_type": "stream",
     "text": [
      "Original:\n",
      "[['5.1' '3.5' '1.4' '0.2' 'Iris-setosa']\n",
      " ['4.9' '3.0' '1.4' '0.2' 'Iris-setosa']\n",
      " ['4.7' '3.2' '1.3' '0.2' 'Iris-setosa']\n",
      " ['4.6' '3.1' '1.5' '0.2' 'Iris-setosa']\n",
      " ['5.0' '3.6' '1.4' '0.2' 'Iris-setosa']]\n",
      "\n",
      "After adding \"Volume\" column:\n",
      "[['5.1' '3.5' '1.4' '0.2' 'Iris-setosa' '38.13265162927291']\n",
      " ['4.9' '3.0' '1.4' '0.2' 'Iris-setosa' '35.200498485922445']\n",
      " ['4.7' '3.2' '1.3' '0.2' 'Iris-setosa' '30.0723720777127']\n",
      " ['4.6' '3.1' '1.5' '0.2' 'Iris-setosa' '33.238050274980004']\n",
      " ['5.0' '3.6' '1.4' '0.2' 'Iris-setosa' '36.65191429188092']]\n"
     ]
    }
   ],
   "source": [
    "# Solution\n",
    "print(\"Original:\")\n",
    "print(data[0:5])\n",
    "\n",
    "print(\"\\nAfter adding \\\"Volume\\\" column:\")\n",
    "sepal = data[:, 0].astype(np.double)\n",
    "petal = data[:, 2].astype(np.double)\n",
    "volume = np.pi * petal * (sepal ** 2) / 3\n",
    "column = volume.reshape(volume.shape[0], 1)\n",
    "result = np.hstack((data, column))\n",
    "print(result[0:5])"
   ]
  },
  {
   "cell_type": "markdown",
   "id": "radical-hepatitis",
   "metadata": {},
   "source": [
    "#### Randomly sample iris's species such that setosa is twice the number of versicolor and virginica\n",
    "See numpy.random.choice"
   ]
  },
  {
   "cell_type": "code",
   "execution_count": 31,
   "id": "bigger-celebrity",
   "metadata": {},
   "outputs": [
    {
     "name": "stdout",
     "output_type": "stream",
     "text": [
      "Sample:\n",
      "['Iris-setosa' 'Iris-versicolor' 'Iris-virginica' 'Iris-setosa'\n",
      " 'Iris-setosa' 'Iris-setosa' 'Iris-setosa' 'Iris-virginica'\n",
      " 'Iris-virginica' 'Iris-setosa']\n"
     ]
    }
   ],
   "source": [
    "print(\"Sample:\")\n",
    "species = np.array(['Iris-setosa', 'Iris-versicolor', 'Iris-virginica'])\n",
    "result = np.random.choice(species, 10, p=[0.5, 0.25, 0.25])\n",
    "print(result)"
   ]
  },
  {
   "cell_type": "markdown",
   "id": "aerial-clearing",
   "metadata": {},
   "source": [
    "#### Sort the iris dataset based on sepallength column"
   ]
  },
  {
   "cell_type": "code",
   "execution_count": 32,
   "id": "balanced-employer",
   "metadata": {},
   "outputs": [
    {
     "name": "stdout",
     "output_type": "stream",
     "text": [
      "Original:\n",
      "[['5.1' '3.5' '1.4' '0.2' 'Iris-setosa']\n",
      " ['4.9' '3.0' '1.4' '0.2' 'Iris-setosa']\n",
      " ['4.7' '3.2' '1.3' '0.2' 'Iris-setosa']\n",
      " ['4.6' '3.1' '1.5' '0.2' 'Iris-setosa']\n",
      " ['5.0' '3.6' '1.4' '0.2' 'Iris-setosa']]\n",
      "\n",
      "Sorted:\n",
      "[['4.3' '3.0' '1.1' '0.1' 'Iris-setosa']\n",
      " ['4.4' '3.2' '1.3' '0.2' 'Iris-setosa']\n",
      " ['4.4' '3.0' '1.3' '0.2' 'Iris-setosa']\n",
      " ['4.4' '2.9' '1.4' '0.2' 'Iris-setosa']\n",
      " ['4.5' '2.3' '1.3' '0.3' 'Iris-setosa']]\n"
     ]
    }
   ],
   "source": [
    "# Solution\n",
    "print(\"Original:\")\n",
    "print(data[0:5])\n",
    "\n",
    "print(\"\\nSorted:\")\n",
    "indices = np.argsort(data[:, 0].astype(np.double))\n",
    "result = data[indices, :]\n",
    "print(result[0:5])"
   ]
  },
  {
   "cell_type": "markdown",
   "id": "acting-purpose",
   "metadata": {},
   "source": [
    "#### Find the most frequent value of petal length (3rd column) in iris dataset"
   ]
  },
  {
   "cell_type": "code",
   "execution_count": 33,
   "id": "attached-interaction",
   "metadata": {},
   "outputs": [
    {
     "name": "stdout",
     "output_type": "stream",
     "text": [
      "Most frequent value of petal length:\n",
      "1.5\n"
     ]
    }
   ],
   "source": [
    "# Solution\n",
    "print(\"Most frequent value of petal length:\")\n",
    "lengths = data[:, 2].astype(np.double)\n",
    "unique, counts = np.unique(lengths, return_counts=True)\n",
    "result = unique[np.argmax(counts)]\n",
    "print(result)"
   ]
  },
  {
   "cell_type": "markdown",
   "id": "dangerous-afternoon",
   "metadata": {},
   "source": [
    "#### Find the position of the first occurrence of a value greater than 1.0 in petalwidth 4th column of iris dataset"
   ]
  },
  {
   "cell_type": "code",
   "execution_count": 34,
   "id": "smoking-jefferson",
   "metadata": {},
   "outputs": [
    {
     "name": "stdout",
     "output_type": "stream",
     "text": [
      "Position of the first occurrence of a value greater than 1.0:\n",
      "50\n"
     ]
    }
   ],
   "source": [
    "# Solution\n",
    "print(\"Position of the first occurrence of a value greater than 1.0:\")\n",
    "widths = data[:, 3].astype(np.double)\n",
    "result = np.argmax(widths > 1.0)\n",
    "print(result)"
   ]
  },
  {
   "cell_type": "markdown",
   "id": "retained-durham",
   "metadata": {},
   "source": [
    "####  Find the 5th and 95th percentile of iris's sepallength"
   ]
  },
  {
   "cell_type": "code",
   "execution_count": 35,
   "id": "recorded-attraction",
   "metadata": {},
   "outputs": [
    {
     "name": "stdout",
     "output_type": "stream",
     "text": [
      "5th percentile: 4.6\n",
      "95th percentile: 7.254999999999998\n"
     ]
    }
   ],
   "source": [
    "# Solution\n",
    "lengths = data[:, 0].astype(np.double)\n",
    "result = np.percentile(lengths, [5, 95])\n",
    "print(\"5th percentile: \" + str(result[0]))\n",
    "print(\"95th percentile: \" + str(result[1]))"
   ]
  },
  {
   "cell_type": "markdown",
   "id": "abstract-palestine",
   "metadata": {},
   "source": [
    "#### Get the rows having petallength (3rd column) > 1.5 and sepallength (1st column) < 5.0"
   ]
  },
  {
   "cell_type": "code",
   "execution_count": 36,
   "id": "crazy-pillow",
   "metadata": {},
   "outputs": [
    {
     "name": "stdout",
     "output_type": "stream",
     "text": [
      "Rows having petallength > 1.5 and sepallength < 5.0:\n",
      "[['4.8' '3.4' '1.6' '0.2' 'Iris-setosa']\n",
      " ['4.8' '3.4' '1.9' '0.2' 'Iris-setosa']\n",
      " ['4.7' '3.2' '1.6' '0.2' 'Iris-setosa']\n",
      " ['4.8' '3.1' '1.6' '0.2' 'Iris-setosa']\n",
      " ['4.9' '2.4' '3.3' '1.0' 'Iris-versicolor']\n",
      " ['4.9' '2.5' '4.5' '1.7' 'Iris-virginica']]\n"
     ]
    }
   ],
   "source": [
    "# Solution\n",
    "print(\"Rows having petallength > 1.5 and sepallength < 5.0:\")\n",
    "petal = data[:, 2].astype(np.double)\n",
    "sepal = data[:, 0].astype(np.double)\n",
    "result = data[(petal > 1.5) & (sepal < 5.0)]\n",
    "print(result)"
   ]
  }
 ],
 "metadata": {
  "kernelspec": {
   "display_name": "Python 3",
   "language": "python",
   "name": "python3"
  },
  "language_info": {
   "codemirror_mode": {
    "name": "ipython",
    "version": 3
   },
   "file_extension": ".py",
   "mimetype": "text/x-python",
   "name": "python",
   "nbconvert_exporter": "python",
   "pygments_lexer": "ipython3",
   "version": "3.8.6"
  },
  "toc": {
   "base_numbering": 1,
   "nav_menu": {},
   "number_sections": true,
   "sideBar": true,
   "skip_h1_title": false,
   "title_cell": "Table of Contents",
   "title_sidebar": "Contents",
   "toc_cell": false,
   "toc_position": {
    "height": "770px",
    "left": "159px",
    "top": "177px",
    "width": "384px"
   },
   "toc_section_display": true,
   "toc_window_display": true
  }
 },
 "nbformat": 4,
 "nbformat_minor": 5
}
